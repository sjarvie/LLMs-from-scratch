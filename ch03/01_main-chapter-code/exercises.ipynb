{
 "cells": [
  {
   "cell_type": "markdown",
   "id": "78224549-3637-44b0-aed1-8ff889c65192",
   "metadata": {},
   "source": [
    "<table style=\"width:100%\">\n",
    "<tr>\n",
    "<td style=\"vertical-align:middle; text-align:left;\">\n",
    "<font size=\"2\">\n",
    "Supplementary code for the <a href=\"http://mng.bz/orYv\">Build a Large Language Model From Scratch</a> book by <a href=\"https://sebastianraschka.com\">Sebastian Raschka</a><br>\n",
    "<br>Code repository: <a href=\"https://github.com/rasbt/LLMs-from-scratch\">https://github.com/rasbt/LLMs-from-scratch</a>\n",
    "</font>\n",
    "</td>\n",
    "<td style=\"vertical-align:middle; text-align:left;\">\n",
    "<a href=\"http://mng.bz/orYv\"><img src=\"https://sebastianraschka.com/images/LLMs-from-scratch-images/cover-small.webp\" width=\"100px\"></a>\n",
    "</td>\n",
    "</tr>\n",
    "</table>\n"
   ]
  },
  {
   "cell_type": "markdown",
   "id": "51c9672d-8d0c-470d-ac2d-1271f8ec3f14",
   "metadata": {},
   "source": [
    "# Chapter 3 Exercise solutions"
   ]
  },
  {
   "cell_type": "markdown",
   "id": "33dfa199-9aee-41d4-a64b-7e3811b9a616",
   "metadata": {},
   "source": [
    "# Exercise 3.1"
   ]
  },
  {
   "cell_type": "code",
   "execution_count": 2,
   "id": "5fee2cf5-61c3-4167-81b5-44ea155bbaf2",
   "metadata": {},
   "outputs": [],
   "source": [
    "import torch\n",
    "\n",
    "inputs = torch.tensor(\n",
    "  [[0.43, 0.15, 0.89], # Your     (x^1)\n",
    "   [0.55, 0.87, 0.66], # journey  (x^2)\n",
    "   [0.57, 0.85, 0.64], # starts   (x^3)\n",
    "   [0.22, 0.58, 0.33], # with     (x^4)\n",
    "   [0.77, 0.25, 0.10], # one      (x^5)\n",
    "   [0.05, 0.80, 0.55]] # step     (x^6)\n",
    ")\n",
    "\n",
    "d_in, d_out = 3, 2"
   ]
  },
  {
   "cell_type": "code",
   "execution_count": 3,
   "id": "62ea289c-41cd-4416-89dd-dde6383a6f70",
   "metadata": {},
   "outputs": [],
   "source": [
    "import torch.nn as nn\n",
    "\n",
    "class SelfAttention_v1(nn.Module):\n",
    "\n",
    "    def __init__(self, d_in, d_out):\n",
    "        super().__init__()\n",
    "        self.d_out = d_out\n",
    "        self.W_query = nn.Parameter(torch.rand(d_in, d_out))\n",
    "        self.W_key   = nn.Parameter(torch.rand(d_in, d_out))\n",
    "        self.W_value = nn.Parameter(torch.rand(d_in, d_out))\n",
    "\n",
    "    def forward(self, x):\n",
    "        keys = x @ self.W_key\n",
    "        queries = x @ self.W_query\n",
    "        values = x @ self.W_value\n",
    "        \n",
    "        attn_scores = queries @ keys.T # omega\n",
    "        attn_weights = torch.softmax(attn_scores / keys.shape[-1]**0.5, dim=-1)\n",
    "\n",
    "        context_vec = attn_weights @ values\n",
    "        return context_vec\n",
    "\n",
    "torch.manual_seed(123)\n",
    "sa_v1 = SelfAttention_v1(d_in, d_out)"
   ]
  },
  {
   "cell_type": "code",
   "execution_count": 4,
   "id": "7b035143-f4e8-45fb-b398-dec1bd5153d4",
   "metadata": {},
   "outputs": [],
   "source": [
    "class SelfAttention_v2(nn.Module):\n",
    "\n",
    "    def __init__(self, d_in, d_out):\n",
    "        super().__init__()\n",
    "        self.d_out = d_out\n",
    "        self.W_query = nn.Linear(d_in, d_out, bias=False)\n",
    "        self.W_key   = nn.Linear(d_in, d_out, bias=False)\n",
    "        self.W_value = nn.Linear(d_in, d_out, bias=False)\n",
    "\n",
    "    def forward(self, x):\n",
    "        keys = self.W_key(x)\n",
    "        queries = self.W_query(x)\n",
    "        values = self.W_value(x)\n",
    "        \n",
    "        attn_scores = queries @ keys.T\n",
    "        attn_weights = torch.softmax(attn_scores / keys.shape[-1]**0.5, dim=1)\n",
    "\n",
    "        context_vec = attn_weights @ values\n",
    "        return context_vec\n",
    "\n",
    "torch.manual_seed(123)\n",
    "sa_v2 = SelfAttention_v2(d_in, d_out)"
   ]
  },
  {
   "cell_type": "code",
   "execution_count": null,
   "id": "512b801b",
   "metadata": {},
   "outputs": [],
   "source": []
  },
  {
   "cell_type": "code",
   "execution_count": 5,
   "id": "7591d79c-c30e-406d-adfd-20c12eb448f6",
   "metadata": {},
   "outputs": [],
   "source": [
    "# sa_v1.W_query"
   ]
  },
  {
   "cell_type": "code",
   "execution_count": 6,
   "id": "ddd0f54f-6bce-46cc-a428-17c2a56557d0",
   "metadata": {},
   "outputs": [],
   "source": [
    "# sa_v2.W_query.weight.T\n"
   ]
  },
  {
   "cell_type": "code",
   "execution_count": 7,
   "id": "0d35ef0b",
   "metadata": {},
   "outputs": [],
   "source": [
    "# sa_v1.W_query = nn.Parameter(sa_v2.W_query.weight.T)"
   ]
  },
  {
   "cell_type": "code",
   "execution_count": 8,
   "id": "340908f8-1144-4ddd-a9e1-a1c5c3d592f5",
   "metadata": {},
   "outputs": [],
   "source": [
    "# sa_v1.W_query"
   ]
  },
  {
   "cell_type": "code",
   "execution_count": 42,
   "id": "cacbcf6a",
   "metadata": {},
   "outputs": [],
   "source": [
    "class CausalSelfAttention(nn.Module):\n",
    "\n",
    "    def __init__(self, d_in, d_out, dropout_rate=0.5):\n",
    "        super().__init__()\n",
    "        self.d_out = d_out\n",
    "        self.W_query = nn.Linear(d_in, d_out, bias=False)\n",
    "        self.W_key   = nn.Linear(d_in, d_out, bias=False)\n",
    "        self.W_value = nn.Linear(d_in, d_out, bias=False)\n",
    "        self.dropout_rate = dropout_rate\n",
    "\n",
    "    def forward(self, x):\n",
    "\n",
    "        keys = self.W_key(x)\n",
    "        queries = self.W_query(x)\n",
    "        values = self.W_value(x)\n",
    "        \n",
    "        attn_scores = queries @ keys.T\n",
    "        # mask the unnormalized attention_scores\n",
    "        attn_mask = torch.triu(torch.ones(attn_scores.shape), diagonal=1)\n",
    "        attn_scores = attn_scores.masked_fill(attn_mask.bool(), -torch.inf)\n",
    "        #dropout_mask = torch.nn.Dropout(self.dropout_rate)\n",
    "        #attn_scores = dropout_mask(attn_scores)\n",
    "        attn_weights = torch.softmax(attn_scores / keys.shape[-1]**0.5, dim=1)\n",
    "\n",
    "        context_vec = attn_weights @ values\n",
    "        return context_vec\n",
    "\n",
    "torch.manual_seed(123)\n",
    "sa_v3 = CausalSelfAttention(d_in, d_out)"
   ]
  },
  {
   "cell_type": "code",
   "execution_count": 43,
   "id": "8490b50c",
   "metadata": {},
   "outputs": [
    {
     "data": {
      "text/plain": [
       "tensor([[-0.4519,  0.2216],\n",
       "        [-0.5874,  0.0058],\n",
       "        [-0.6300, -0.0632],\n",
       "        [-0.5675, -0.0843],\n",
       "        [-0.5526, -0.0981],\n",
       "        [-0.5299, -0.1081]], grad_fn=<MmBackward0>)"
      ]
     },
     "execution_count": 43,
     "metadata": {},
     "output_type": "execute_result"
    }
   ],
   "source": [
    "sa_v3.forward(inputs)"
   ]
  },
  {
   "cell_type": "code",
   "execution_count": 11,
   "id": "e280fddb",
   "metadata": {},
   "outputs": [],
   "source": [
    "W_query = nn.Linear(d_in, d_out, bias=False)\n",
    "W_key   = nn.Linear(d_in, d_out, bias=False)\n",
    "keys = W_key(inputs)\n",
    "queries = W_query(inputs)\n",
    "\n",
    "attn_scores = queries @ keys.T"
   ]
  },
  {
   "cell_type": "code",
   "execution_count": 15,
   "id": "ec81f193",
   "metadata": {},
   "outputs": [
    {
     "data": {
      "text/plain": [
       "tensor([[0., 1., 1., 1., 1., 1.],\n",
       "        [0., 0., 1., 1., 1., 1.],\n",
       "        [0., 0., 0., 1., 1., 1.],\n",
       "        [0., 0., 0., 0., 1., 1.],\n",
       "        [0., 0., 0., 0., 0., 1.],\n",
       "        [0., 0., 0., 0., 0., 0.]])"
      ]
     },
     "execution_count": 15,
     "metadata": {},
     "output_type": "execute_result"
    }
   ],
   "source": [
    "context_length = attn_scores.shape[1]\n",
    "attn_mask = torch.triu(torch.ones(context_length, context_length), diagonal=1)\n",
    "attn_mask"
   ]
  },
  {
   "cell_type": "code",
   "execution_count": 16,
   "id": "55cf1a59",
   "metadata": {},
   "outputs": [
    {
     "data": {
      "text/plain": [
       "tensor([[0., 1., 1., 1., 1., 1.],\n",
       "        [0., 0., 1., 1., 1., 1.],\n",
       "        [0., 0., 0., 1., 1., 1.],\n",
       "        [0., 0., 0., 0., 1., 1.],\n",
       "        [0., 0., 0., 0., 0., 1.],\n",
       "        [0., 0., 0., 0., 0., 0.]])"
      ]
     },
     "execution_count": 16,
     "metadata": {},
     "output_type": "execute_result"
    }
   ],
   "source": [
    "torch.triu(torch.ones(context_length, context_length), diagonal=1)"
   ]
  },
  {
   "cell_type": "code",
   "execution_count": 17,
   "id": "a1336a30",
   "metadata": {},
   "outputs": [],
   "source": [
    "context_length = attn_scores.shape[0]"
   ]
  },
  {
   "cell_type": "code",
   "execution_count": 18,
   "id": "4c794d94",
   "metadata": {},
   "outputs": [
    {
     "name": "stdout",
     "output_type": "stream",
     "text": [
      "tensor([[-0.2327,    -inf,    -inf,    -inf,    -inf,    -inf],\n",
      "        [-0.2396,  0.1015,    -inf,    -inf,    -inf,    -inf],\n",
      "        [-0.2323,  0.1004,  0.1045,    -inf,    -inf,    -inf],\n",
      "        [-0.1344,  0.0502,  0.0523,  0.0470,    -inf,    -inf],\n",
      "        [-0.0349,  0.0520,  0.0538,  0.0331,  0.0708,    -inf],\n",
      "        [-0.2142,  0.0650,  0.0679,  0.0668,  0.1004,  0.0395]],\n",
      "       grad_fn=<MaskedFillBackward0>)\n"
     ]
    }
   ],
   "source": [
    "mask = torch.triu(torch.ones(context_length, context_length), diagonal=1)\n",
    "masked = attn_scores.masked_fill(mask.bool(), -torch.inf)\n",
    "print(masked)"
   ]
  },
  {
   "cell_type": "code",
   "execution_count": 19,
   "id": "250d16a5",
   "metadata": {},
   "outputs": [
    {
     "data": {
      "text/plain": [
       "tensor([[0., 1., 1., 1., 1., 1.],\n",
       "        [0., 0., 1., 1., 1., 1.],\n",
       "        [0., 0., 0., 1., 1., 1.],\n",
       "        [0., 0., 0., 0., 1., 1.],\n",
       "        [0., 0., 0., 0., 0., 1.],\n",
       "        [0., 0., 0., 0., 0., 0.]])"
      ]
     },
     "execution_count": 19,
     "metadata": {},
     "output_type": "execute_result"
    }
   ],
   "source": [
    "attn_mask"
   ]
  },
  {
   "cell_type": "code",
   "execution_count": 20,
   "id": "988d3ce2",
   "metadata": {},
   "outputs": [
    {
     "data": {
      "text/plain": [
       "tensor([[-0.2327,  0.1055,  0.1098,  0.0913,  0.1549,  0.0521],\n",
       "        [-0.2396,  0.1015,  0.1057,  0.0902,  0.1501,  0.0518],\n",
       "        [-0.2323,  0.1004,  0.1045,  0.0885,  0.1481,  0.0507],\n",
       "        [-0.1344,  0.0502,  0.0523,  0.0470,  0.0753,  0.0272],\n",
       "        [-0.0349,  0.0520,  0.0538,  0.0331,  0.0708,  0.0174],\n",
       "        [-0.2142,  0.0650,  0.0679,  0.0668,  0.1004,  0.0395]],\n",
       "       grad_fn=<MmBackward0>)"
      ]
     },
     "execution_count": 20,
     "metadata": {},
     "output_type": "execute_result"
    }
   ],
   "source": [
    "attn_scores"
   ]
  },
  {
   "cell_type": "code",
   "execution_count": 21,
   "id": "eb3965ab",
   "metadata": {},
   "outputs": [
    {
     "data": {
      "text/plain": [
       "tensor([[  -inf, 0.1055, 0.1098, 0.0913, 0.1549, 0.0521],\n",
       "        [  -inf,   -inf, 0.1057, 0.0902, 0.1501, 0.0518],\n",
       "        [  -inf,   -inf,   -inf, 0.0885, 0.1481, 0.0507],\n",
       "        [  -inf,   -inf,   -inf,   -inf, 0.0753, 0.0272],\n",
       "        [  -inf,   -inf,   -inf,   -inf,   -inf, 0.0174],\n",
       "        [  -inf,   -inf,   -inf,   -inf,   -inf,   -inf]],\n",
       "       grad_fn=<MaskedFillBackward0>)"
      ]
     },
     "execution_count": 21,
     "metadata": {},
     "output_type": "execute_result"
    }
   ],
   "source": [
    "attn_scores.masked_fill(attn_mask == 0, float('-inf'))"
   ]
  },
  {
   "cell_type": "code",
   "execution_count": 33,
   "id": "1571f16b",
   "metadata": {},
   "outputs": [
    {
     "name": "stdout",
     "output_type": "stream",
     "text": [
      "tensor([[0., 0., 0., 5., 0., 0.],\n",
      "        [0., 0., 0., 0., 0., 0.],\n",
      "        [0., 0., 0., 0., 0., 0.],\n",
      "        [0., 0., 0., 0., 0., 0.],\n",
      "        [5., 0., 0., 0., 0., 0.],\n",
      "        [0., 0., 0., 0., 0., 0.]])\n"
     ]
    }
   ],
   "source": [
    "torch.manual_seed(123)\n",
    "dropout = torch.nn.Dropout(0.8)\n",
    "example = torch.ones(6, 6)\n",
    "print(dropout(example))"
   ]
  },
  {
   "cell_type": "code",
   "execution_count": 35,
   "id": "7ebc8a6e",
   "metadata": {},
   "outputs": [
    {
     "name": "stdout",
     "output_type": "stream",
     "text": [
      "tensor(30.)\n"
     ]
    }
   ],
   "source": [
    "print(sum(sum(dropout(example))))"
   ]
  },
  {
   "cell_type": "code",
   "execution_count": 44,
   "id": "dfc360fb",
   "metadata": {},
   "outputs": [],
   "source": [
    "class CausalAttention(nn.Module):\n",
    "    def __init__(self, d_in, d_out, context_length,\n",
    "                dropout, qkv_bias=False):\n",
    "        super().__init__()\n",
    "        self.d_out = d_out\n",
    "        self.W_query = nn.Linear(d_in, d_out, bias=qkv_bias)\n",
    "        self.W_key   = nn.Linear(d_in, d_out, bias=qkv_bias)\n",
    "        self.W_value = nn.Linear(d_in, d_out, bias=qkv_bias)\n",
    "        self.dropout = nn.Dropout(dropout)\n",
    "        self.register_buffer(\n",
    "           'mask',\n",
    "           torch.triu(torch.ones(context_length, context_length),\n",
    "           diagonal=1)\n",
    "        )\n",
    " \n",
    "    def forward(self, x):\n",
    "        b, num_tokens, d_in = x.shape\n",
    "        keys = self.W_key(x)\n",
    "        queries = self.W_query(x)\n",
    "        values = self.W_value(x)\n",
    " \n",
    "        attn_scores = queries @ keys.transpose(1, 2)\n",
    "        attn_scores.masked_fill_(\n",
    "            self.mask.bool()[:num_tokens, :num_tokens], -torch.inf) \n",
    "        attn_weights = torch.softmax(\n",
    "            attn_scores / keys.shape[-1]**0.5, dim=-1\n",
    "        )\n",
    "        attn_weights = self.dropout(attn_weights)\n",
    " \n",
    "        context_vec = attn_weights @ values\n",
    "        return context_vec"
   ]
  },
  {
   "cell_type": "markdown",
   "id": "33543edb-46b5-4b01-8704-f7f101230544",
   "metadata": {},
   "source": [
    "# Exercise 3.2"
   ]
  },
  {
   "cell_type": "code",
   "execution_count": 45,
   "id": "683c9038",
   "metadata": {},
   "outputs": [
    {
     "name": "stdout",
     "output_type": "stream",
     "text": [
      "torch.Size([2, 6, 3])\n"
     ]
    }
   ],
   "source": [
    "batch = torch.stack((inputs, inputs), dim=0)\n",
    "print(batch.shape)"
   ]
  },
  {
   "cell_type": "code",
   "execution_count": 127,
   "id": "09956fa0",
   "metadata": {},
   "outputs": [
    {
     "data": {
      "text/plain": [
       "tensor([[0.4300, 0.1500, 0.8900],\n",
       "        [0.5500, 0.8700, 0.6600],\n",
       "        [0.5700, 0.8500, 0.6400],\n",
       "        [0.2200, 0.5800, 0.3300],\n",
       "        [0.7700, 0.2500, 0.1000],\n",
       "        [0.0500, 0.8000, 0.5500]])"
      ]
     },
     "execution_count": 127,
     "metadata": {},
     "output_type": "execute_result"
    }
   ],
   "source": [
    "inputs"
   ]
  },
  {
   "cell_type": "code",
   "execution_count": 46,
   "id": "a7bece6c",
   "metadata": {},
   "outputs": [
    {
     "data": {
      "text/plain": [
       "tensor([[[0.4300, 0.1500, 0.8900],\n",
       "         [0.5500, 0.8700, 0.6600],\n",
       "         [0.5700, 0.8500, 0.6400],\n",
       "         [0.2200, 0.5800, 0.3300],\n",
       "         [0.7700, 0.2500, 0.1000],\n",
       "         [0.0500, 0.8000, 0.5500]],\n",
       "\n",
       "        [[0.4300, 0.1500, 0.8900],\n",
       "         [0.5500, 0.8700, 0.6600],\n",
       "         [0.5700, 0.8500, 0.6400],\n",
       "         [0.2200, 0.5800, 0.3300],\n",
       "         [0.7700, 0.2500, 0.1000],\n",
       "         [0.0500, 0.8000, 0.5500]]])"
      ]
     },
     "execution_count": 46,
     "metadata": {},
     "output_type": "execute_result"
    }
   ],
   "source": [
    "batch"
   ]
  },
  {
   "cell_type": "code",
   "execution_count": 47,
   "id": "4e836da6",
   "metadata": {},
   "outputs": [
    {
     "name": "stdout",
     "output_type": "stream",
     "text": [
      "context_vecs.shape: torch.Size([2, 6, 2])\n"
     ]
    }
   ],
   "source": [
    "torch.manual_seed(123)\n",
    "context_length = batch.shape[1]\n",
    "ca = CausalAttention(d_in, d_out, context_length, 0.0)\n",
    "context_vecs = ca(batch)\n",
    "print(\"context_vecs.shape:\", context_vecs.shape)"
   ]
  },
  {
   "cell_type": "code",
   "execution_count": 48,
   "id": "7b77450a",
   "metadata": {},
   "outputs": [],
   "source": [
    "class MultiHeadAttentionWrapper(nn.Module):\n",
    "    def __init__(self, d_in, d_out, context_length,\n",
    "                 dropout, num_heads, qkv_bias=False):\n",
    "        super().__init__()\n",
    "        self.heads = nn.ModuleList(\n",
    "            [CausalAttention(d_in, d_out, context_length, dropout, qkv_bias) \n",
    "             for _ in range(num_heads)]\n",
    "        )\n",
    " \n",
    "    def forward(self, x):\n",
    "        return torch.cat([head(x) for head in self.heads], dim=-1)"
   ]
  },
  {
   "cell_type": "code",
   "execution_count": 161,
   "id": "83debcdd",
   "metadata": {},
   "outputs": [
    {
     "name": "stdout",
     "output_type": "stream",
     "text": [
      "tensor([[[-0.3132, -0.2272,  0.4772,  0.1063],\n",
      "         [-0.2320,  0.0293,  0.5789,  0.3056],\n",
      "         [-0.2068,  0.1162,  0.6118,  0.3695],\n",
      "         [-0.1635,  0.1328,  0.5457,  0.3531],\n",
      "         [-0.1687,  0.1813,  0.5315,  0.3400],\n",
      "         [-0.1411,  0.1727,  0.5063,  0.3432]],\n",
      "\n",
      "        [[-0.3132, -0.2272,  0.4772,  0.1063],\n",
      "         [-0.2320,  0.0293,  0.5789,  0.3056],\n",
      "         [-0.2068,  0.1162,  0.6118,  0.3695],\n",
      "         [-0.1635,  0.1328,  0.5457,  0.3531],\n",
      "         [-0.1687,  0.1813,  0.5315,  0.3400],\n",
      "         [-0.1411,  0.1727,  0.5063,  0.3432]]], grad_fn=<CatBackward0>)\n",
      "context_vecs.shape: torch.Size([2, 6, 4])\n"
     ]
    }
   ],
   "source": [
    "torch.manual_seed(123)\n",
    "context_length = batch.shape[1] # This is the number of tokens\n",
    "d_in, d_out = 3, 4\n",
    "mha = MultiHeadAttentionWrapper(d_in, d_out, context_length, 0.0, num_heads=1)\n",
    "context_vecs_wrapper = mha(batch)\n",
    " \n",
    "print(context_vecs_wrapper)\n",
    "print(\"context_vecs.shape:\", context_vecs_wrapper.shape)"
   ]
  },
  {
   "cell_type": "code",
   "execution_count": 154,
   "id": "1784f921",
   "metadata": {},
   "outputs": [
    {
     "data": {
      "text/plain": [
       "torch.Size([2, 6, 3])"
      ]
     },
     "execution_count": 154,
     "metadata": {},
     "output_type": "execute_result"
    }
   ],
   "source": [
    "batch.shape"
   ]
  },
  {
   "cell_type": "markdown",
   "id": "0588e209-1644-496a-8dae-7630b4ef9083",
   "metadata": {},
   "source": [
    "If we want to have an output dimension of 2, as earlier in single-head attention, we can have to change the projection dimension `d_out` to 1:"
   ]
  },
  {
   "cell_type": "markdown",
   "id": "18e748ef-3106-4e11-a781-b230b74a0cef",
   "metadata": {},
   "source": [
    "```python\n",
    "torch.manual_seed(123)\n",
    "\n",
    "d_out = 1\n",
    "mha = MultiHeadAttentionWrapper(d_in, d_out, context_length, 0.0, num_heads=2)\n",
    "\n",
    "context_vecs = mha(batch)\n",
    "\n",
    "print(context_vecs)\n",
    "print(\"context_vecs.shape:\", context_vecs.shape)\n",
    "```"
   ]
  },
  {
   "cell_type": "code",
   "execution_count": 259,
   "id": "7b5ce306",
   "metadata": {},
   "outputs": [],
   "source": [
    "class MultiHeadAttention(nn.Module):\n",
    "    def __init__(self, d_in, d_out, \n",
    "                 context_length, dropout, num_heads, qkv_bias=False):\n",
    "        super().__init__()\n",
    "        assert d_out % num_heads == 0, \"d_out must be divisible by num_heads\"\n",
    " \n",
    "        self.d_out = d_out\n",
    "        self.num_heads = num_heads\n",
    "        self.head_dim = d_out // num_heads\n",
    "        self.W_query = nn.Linear(d_in, d_out, bias=qkv_bias)\n",
    "        self.W_key = nn.Linear(d_in, d_out, bias=qkv_bias)\n",
    "        self.W_value = nn.Linear(d_in, d_out, bias=qkv_bias)\n",
    "        self.out_proj = nn.Linear(d_out, d_out)\n",
    "        self.dropout = nn.Dropout(dropout)\n",
    "        self.register_buffer(\n",
    "            'mask',\n",
    "             torch.triu(torch.ones(context_length, context_length), diagonal=1)\n",
    "        )\n",
    " \n",
    "    def forward(self, x):\n",
    "        num_inputs, num_tokens, d_in = x.shape\n",
    "        keys = self.W_key(x)\n",
    "        queries = self.W_query(x)\n",
    "        values = self.W_value(x)\n",
    " \n",
    "        keys = keys.view(num_inputs, num_tokens, num_heads, head_dim) # (num_inputs x num_tokens x num_heads x head_dim)\n",
    "        queries = queries.view(num_inputs, num_tokens, num_heads, head_dim) # (num_inputs x num_tokens x num_heads x head_dim)\n",
    "        values = values.view(num_inputs, num_tokens, num_heads, head_dim) # (num_inputs x num_tokens x num_heads x head_dim)\n",
    "\n",
    "\n",
    "        # transpose inputs\n",
    "        # (num_inputs, num_tokens, num_heads, head_dim) -> (num_inputs, num_heads, num_tokens, head_dim)\n",
    "        keys= keys.transpose(1, 2)\n",
    "        queries = queries.transpose(1, 2)\n",
    "        values = values.transpose(1, 2)\n",
    "\n",
    "        # compute attention scores\n",
    "        # (num_inputs x num_heads x num_tokens x num_tokens)\n",
    "        attn_scores = queries @ keys.transpose(2, 3) \n",
    "\n",
    "        # apply mask\n",
    "        # (num_inputs x num_heads x num_tokens x num_tokens)\n",
    "        self.mask.bool()[:num_tokens, :num_tokens]\n",
    "        masked = attn_scores.masked_fill(self.mask.bool(), -torch.inf)\n",
    "        \n",
    "\n",
    "        # apply softmax (on last dimension)\n",
    "        # (num_inputs x num_heads x num_tokens x num_tokens)\n",
    "        attn_weights = torch.softmax(masked / keys.shape[1] ** 0.5, dim=-1)\n",
    "\n",
    "        # apply random dropout\n",
    "        # (num_inputs x num_heads x num_tokens x num_tokens)\n",
    "        attn_weights = self.dropout(attn_weights)\n",
    "\n",
    "        # generate contet vector\n",
    "        # values already transposed\n",
    "        context_vec = (attn_weights @ values).transpose(1,2) # (num_inputs x num_tokens * num_heads x head_dim)\n",
    "        context_vec = context_vec.contiguous().view(b, num_tokens, self.d_out) # (num_inputs, num_tokens, d_out)\n",
    "        context_vec = self.out_proj(context_vec) # (num_inputs, num_tokens, d_out)\n",
    "        return context_vec"
   ]
  },
  {
   "cell_type": "code",
   "execution_count": 156,
   "id": "dd355af4",
   "metadata": {},
   "outputs": [
    {
     "data": {
      "text/plain": [
       "torch.Size([2, 6, 2, 1])"
      ]
     },
     "execution_count": 156,
     "metadata": {},
     "output_type": "execute_result"
    }
   ],
   "source": []
  },
  {
   "cell_type": "code",
   "execution_count": 157,
   "id": "d6117510",
   "metadata": {},
   "outputs": [],
   "source": []
  },
  {
   "cell_type": "code",
   "execution_count": 200,
   "id": "c08e491a",
   "metadata": {},
   "outputs": [],
   "source": [
    "#batch.shape = \n",
    "\n",
    "batch = batch[1:,:,:]"
   ]
  },
  {
   "cell_type": "code",
   "execution_count": 201,
   "id": "4660507f",
   "metadata": {},
   "outputs": [
    {
     "data": {
      "text/plain": [
       "torch.Size([1, 6, 3])"
      ]
     },
     "execution_count": 201,
     "metadata": {},
     "output_type": "execute_result"
    }
   ],
   "source": [
    "batch.shape"
   ]
  },
  {
   "cell_type": "code",
   "execution_count": 223,
   "id": "4bff72f5",
   "metadata": {},
   "outputs": [],
   "source": [
    "x = batch\n",
    "num_tokens = batch.shape[1] # 6\n",
    "d_in = batch.shape[2] #. 3\n",
    "d_out = 8\n",
    "num_heads=2\n",
    "b, num_tokens, d_in = batch.shape\n",
    "W_query = nn.Linear(d_in, d_out, bias=False)\n",
    "W_key = nn.Linear(d_in, d_out, bias=False)\n",
    "W_value = nn.Linear(d_in, d_out, bias=False)\n",
    "head_dim = d_out // num_heads\n",
    "keys= W_key(x)\n",
    "queries = W_query(x)\n",
    "values = W_value(x)\n",
    "num_inputs = b # 2\n"
   ]
  },
  {
   "cell_type": "code",
   "execution_count": 221,
   "id": "d4183692",
   "metadata": {},
   "outputs": [
    {
     "name": "stdout",
     "output_type": "stream",
     "text": [
      "d_in: 3\n",
      "d_out: 8\n",
      "num_inputs: 1\n",
      "num_heads : 2\n",
      "dim_head : 4\n",
      "num_tokens : 6\n"
     ]
    }
   ],
   "source": [
    "print(f\"d_in: {d_in}\")\n",
    "print(f\"d_out: {d_out}\")\n",
    "print(f\"num_inputs: {num_inputs}\")\n",
    "print(f\"num_heads : {num_heads}\")\n",
    "print(f\"dim_head : {d_out // num_heads}\")\n",
    "print(f\"num_tokens : {num_tokens}\")"
   ]
  },
  {
   "cell_type": "code",
   "execution_count": 260,
   "id": "2f37fbec",
   "metadata": {},
   "outputs": [
    {
     "data": {
      "text/plain": [
       "tensor([[[-0.3499,  0.2475,  0.7858, -0.1963,  0.1205,  0.1612,  0.5282,\n",
       "           0.0608],\n",
       "         [-0.0854,  0.3290,  0.4207, -0.0790,  0.0129,  0.1088,  0.4140,\n",
       "          -0.0376],\n",
       "         [-0.3457,  0.4110,  0.9467, -0.1131, -0.0625,  0.3940,  0.5060,\n",
       "           0.2879],\n",
       "         [-0.0151,  0.4282,  0.7362, -0.0475, -0.1657,  0.4405,  0.3618,\n",
       "           0.5702],\n",
       "         [-0.1075,  0.3970,  0.7199, -0.0820, -0.1167,  0.3618,  0.4300,\n",
       "           0.3607],\n",
       "         [-0.0122,  0.3797,  0.4348, -0.0277, -0.0550,  0.1627,  0.3461,\n",
       "           0.1996]]], grad_fn=<ViewBackward0>)"
      ]
     },
     "execution_count": 260,
     "metadata": {},
     "output_type": "execute_result"
    }
   ],
   "source": [
    "mha = MultiHeadAttention(d_in, d_out, context_length=num_tokens, dropout=0.5, num_heads=num_heads, qkv_bias=False)\n"
   ]
  },
  {
   "cell_type": "code",
   "execution_count": 262,
   "id": "182c1f31",
   "metadata": {},
   "outputs": [
    {
     "data": {
      "text/plain": [
       "torch.Size([1, 6, 8])"
      ]
     },
     "execution_count": 262,
     "metadata": {},
     "output_type": "execute_result"
    }
   ],
   "source": [
    "mha(batch).shape # num_inputs * num_tokens * d_out"
   ]
  },
  {
   "cell_type": "code",
   "execution_count": 224,
   "id": "40947612",
   "metadata": {},
   "outputs": [],
   "source": [
    "\n",
    "keys = keys.view(num_inputs, num_tokens, num_heads, head_dim) # (num_inputs x num_tokens x num_heads x head_dim)\n",
    "queries = queries.view(num_inputs, num_tokens, num_heads, head_dim) # (num_inputs x num_tokens x num_heads x head_dim)\n",
    "values = values.view(num_inputs, num_tokens, num_heads, head_dim) # (num_inputs x num_tokens x num_heads x head_dim)\n",
    "\n",
    "\n",
    "# transpose inputs\n",
    "# (num_inputs, num_tokens, num_heads, head_dim) -> (num_inputs, num_heads, num_tokens, head_dim)\n",
    "keys= keys.transpose(1, 2)\n",
    "queries = queries.transpose(1, 2)\n",
    "values = values.transpose(1, 2)\n",
    "\n",
    "# compute attention scores\n",
    "# (num_inputs x num_heads x num_tokens x num_tokens)\n",
    "attn_scores = queries @ keys.transpose(2, 3) \n",
    "\n",
    "# apply mask\n",
    "# (num_inputs x num_heads x num_tokens x num_tokens)\n",
    "#self.mask.bool()[:num_tokens, :num_tokens]\n",
    "#masked = attn_scores.masked_fill(self.mask.bool(), -torch.inf)\n",
    "\n",
    "\n",
    "# apply softmax (on last dimension)\n",
    "# (num_inputs x num_heads x num_tokens x num_tokens)\n",
    "attn_weights = torch.softmax(masked / keys.shape[1] ** 0.5, dim=-1)\n",
    "\n",
    "# apply random dropout\n",
    "# (num_inputs x num_heads x num_tokens x num_tokens)\n",
    "# attn_weights = Dropout(attn_weights)\n",
    "\n",
    "# generate contet vector\n",
    "# values already transposed\n",
    "context_vec = (attn_weights @ values).transpose(1,2 ) # (num_inputs x num_tokens * num_heads x head_dim)\n",
    "context_vec = context_vec.contiguous().view(num_inputs, num_tokens, d_out) # num_inputs * num_tokens * d_out\n"
   ]
  },
  {
   "cell_type": "code",
   "execution_count": 225,
   "id": "6206663e",
   "metadata": {},
   "outputs": [
    {
     "data": {
      "text/plain": [
       "torch.Size([1, 2, 6, 6])"
      ]
     },
     "execution_count": 225,
     "metadata": {},
     "output_type": "execute_result"
    }
   ],
   "source": [
    "# matrix per input, head of num_tokensxnum_tokens\n",
    "attn_scores.shape # num_inputs * num_heads * num_tokens * num_tokens "
   ]
  },
  {
   "cell_type": "code",
   "execution_count": 244,
   "id": "57d3771d",
   "metadata": {},
   "outputs": [
    {
     "data": {
      "text/plain": [
       "tensor([[ 6, 12],\n",
       "        [15, 30],\n",
       "        [24, 48]], dtype=torch.int32)"
      ]
     },
     "execution_count": 244,
     "metadata": {},
     "output_type": "execute_result"
    }
   ],
   "source": [
    "# Define the matrix with arbitrary integer values\n",
    "data = [\n",
    "    [1, 2, 3],\n",
    "    [4, 5, 6],\n",
    "    [7, 8, 9]\n",
    "]\n",
    "matrix = torch.tensor(data, dtype=torch.int32)\n",
    "data2 = [\n",
    "    [1, 2],\n",
    "    [1, 2],\n",
    "    [1, 2]\n",
    "] \n",
    "matrix2 = torch.tensor(data2, dtype=torch.int32)\n",
    "matrix @ matrix2\n"
   ]
  },
  {
   "cell_type": "code",
   "execution_count": 246,
   "id": "69a630e8",
   "metadata": {},
   "outputs": [
    {
     "name": "stdout",
     "output_type": "stream",
     "text": [
      "torch.Size([1, 2, 6, 6])\n"
     ]
    }
   ],
   "source": [
    "mask = torch.triu(torch.ones(context_length, context_length), diagonal=1)\n",
    "masked = attn_scores.masked_fill(mask.bool(), -torch.inf)\n",
    "print(masked.shape)\n",
    "attn_weights = torch.softmax(masked / keys.shape[1] ** 0.5, dim=-1)\n"
   ]
  },
  {
   "cell_type": "code",
   "execution_count": 247,
   "id": "9b21fa3b",
   "metadata": {},
   "outputs": [
    {
     "data": {
      "text/plain": [
       "torch.Size([1, 2, 6, 6])"
      ]
     },
     "execution_count": 247,
     "metadata": {},
     "output_type": "execute_result"
    }
   ],
   "source": [
    "attn_weights.shape # (num_inputs * num_heads * num_tokens * num_tokens)"
   ]
  },
  {
   "cell_type": "code",
   "execution_count": 248,
   "id": "e2b8622b",
   "metadata": {},
   "outputs": [
    {
     "data": {
      "text/plain": [
       "torch.Size([1, 2, 6, 4])"
      ]
     },
     "execution_count": 248,
     "metadata": {},
     "output_type": "execute_result"
    }
   ],
   "source": [
    "values.shape # values (after transpose) is num_inputs * num_heads * num_tokens * dim_head"
   ]
  },
  {
   "cell_type": "code",
   "execution_count": 250,
   "id": "0feb7372",
   "metadata": {},
   "outputs": [],
   "source": [
    "context_vec = (attn_weights @ values).transpose(1, 2)"
   ]
  },
  {
   "cell_type": "code",
   "execution_count": 253,
   "id": "43354ac2",
   "metadata": {},
   "outputs": [],
   "source": []
  },
  {
   "cell_type": "code",
   "execution_count": 254,
   "id": "767eee9c",
   "metadata": {},
   "outputs": [
    {
     "data": {
      "text/plain": [
       "torch.Size([1, 6, 8])"
      ]
     },
     "execution_count": 254,
     "metadata": {},
     "output_type": "execute_result"
    }
   ],
   "source": [
    "context_vec.shape # num_inputs * num_tokens * d_out"
   ]
  },
  {
   "cell_type": "code",
   "execution_count": 237,
   "id": "272bd435",
   "metadata": {},
   "outputs": [
    {
     "data": {
      "text/plain": [
       "tensor([[[[-0.1257,  0.6342, -0.6926,  0.2984],\n",
       "          [-0.1871, -0.0844, -0.3135, -0.1658]],\n",
       "\n",
       "         [[-0.0660,  0.6053, -0.6154,  0.2087],\n",
       "          [-0.3221, -0.2609, -0.3324, -0.0850]],\n",
       "\n",
       "         [[-0.0417,  0.5938, -0.5909,  0.1743],\n",
       "          [-0.3644, -0.3148, -0.3316, -0.0635]],\n",
       "\n",
       "         [[-0.0360,  0.5115, -0.4934,  0.1453],\n",
       "          [-0.3362, -0.3028, -0.3050, -0.0335]],\n",
       "\n",
       "         [[ 0.0157,  0.4784, -0.4930,  0.0895],\n",
       "          [-0.3234, -0.2758, -0.2138, -0.0773]],\n",
       "\n",
       "         [[-0.0085,  0.4477, -0.4341,  0.1015],\n",
       "          [-0.3193, -0.2886, -0.2518, -0.0360]]]],\n",
       "       grad_fn=<TransposeBackward1>)"
      ]
     },
     "execution_count": 237,
     "metadata": {},
     "output_type": "execute_result"
    }
   ],
   "source": [
    "context_vec"
   ]
  },
  {
   "cell_type": "code",
   "execution_count": 238,
   "id": "051aef20",
   "metadata": {},
   "outputs": [
    {
     "data": {
      "text/plain": [
       "torch.Size([1, 6, 2, 4])"
      ]
     },
     "execution_count": 238,
     "metadata": {},
     "output_type": "execute_result"
    }
   ],
   "source": [
    "context_vec.shape # num_inputs * num_heads *"
   ]
  },
  {
   "cell_type": "code",
   "execution_count": 191,
   "id": "d6f49832",
   "metadata": {},
   "outputs": [
    {
     "data": {
      "text/plain": [
       "torch.Size([2, 6, 1, 4])"
      ]
     },
     "execution_count": 191,
     "metadata": {},
     "output_type": "execute_result"
    }
   ],
   "source": [
    "context_vec.transpose(1, 2).shape"
   ]
  },
  {
   "cell_type": "code",
   "execution_count": 172,
   "id": "62cfcd93",
   "metadata": {},
   "outputs": [],
   "source": [
    "attn_scores = queriesv @ keysv.transpose(2, 3)"
   ]
  },
  {
   "cell_type": "code",
   "execution_count": 173,
   "id": "0528d67e",
   "metadata": {},
   "outputs": [
    {
     "data": {
      "text/plain": [
       "torch.Size([2, 1, 6, 6])"
      ]
     },
     "execution_count": 173,
     "metadata": {},
     "output_type": "execute_result"
    }
   ],
   "source": [
    "attn_scores.shape # (num_inputs x num_heads x num_tokens x num_tokens)"
   ]
  },
  {
   "cell_type": "code",
   "execution_count": 175,
   "id": "4fe5c9b0",
   "metadata": {},
   "outputs": [
    {
     "name": "stdout",
     "output_type": "stream",
     "text": [
      "torch.Size([2, 1, 6, 6])\n"
     ]
    }
   ],
   "source": []
  },
  {
   "cell_type": "code",
   "execution_count": 182,
   "id": "e446d00e",
   "metadata": {},
   "outputs": [],
   "source": []
  },
  {
   "cell_type": "code",
   "execution_count": 183,
   "id": "a016d668",
   "metadata": {},
   "outputs": [
    {
     "data": {
      "text/plain": [
       "torch.Size([2, 6, 1, 4])"
      ]
     },
     "execution_count": 183,
     "metadata": {},
     "output_type": "execute_result"
    }
   ],
   "source": [
    "keys.shape"
   ]
  },
  {
   "cell_type": "code",
   "execution_count": 184,
   "id": "023efccf",
   "metadata": {},
   "outputs": [
    {
     "ename": "RuntimeError",
     "evalue": "Expected size for first two dimensions of batch2 tensor to be: [12, 6] but got: [12, 1].",
     "output_type": "error",
     "traceback": [
      "\u001b[0;31m---------------------------------------------------------------------------\u001b[0m",
      "\u001b[0;31mRuntimeError\u001b[0m                              Traceback (most recent call last)",
      "Cell \u001b[0;32mIn[184], line 1\u001b[0m\n\u001b[0;32m----> 1\u001b[0m context_vec \u001b[38;5;241m=\u001b[39m \u001b[43mattn_weights\u001b[49m\u001b[43m \u001b[49m\u001b[38;5;241;43m@\u001b[39;49m\u001b[43m \u001b[49m\u001b[43mvalues\u001b[49m \n",
      "\u001b[0;31mRuntimeError\u001b[0m: Expected size for first two dimensions of batch2 tensor to be: [12, 6] but got: [12, 1]."
     ]
    }
   ],
   "source": []
  },
  {
   "cell_type": "markdown",
   "id": "78234544-d989-4f71-ac28-85a7ec1e6b7b",
   "metadata": {},
   "source": []
  },
  {
   "cell_type": "markdown",
   "id": "92bdabcb-06cf-4576-b810-d883bbd313ba",
   "metadata": {},
   "source": [
    "# Exercise 3.3"
   ]
  },
  {
   "cell_type": "markdown",
   "id": "84c9b963-d01f-46e6-96bf-8eb2a54c5e42",
   "metadata": {},
   "source": [
    "```python\n",
    "context_length = 1024\n",
    "d_in, d_out = 768, 768\n",
    "num_heads = 12\n",
    "\n",
    "mha = MultiHeadAttention(d_in, d_out, context_length, 0.0, num_heads)\n",
    "```"
   ]
  },
  {
   "cell_type": "code",
   "execution_count": null,
   "id": "21badf01",
   "metadata": {},
   "outputs": [],
   "source": [
    "batch "
   ]
  },
  {
   "cell_type": "code",
   "execution_count": 265,
   "id": "ff607fec",
   "metadata": {},
   "outputs": [
    {
     "ename": "RuntimeError",
     "evalue": "mat1 and mat2 shapes cannot be multiplied (6x3 and 768x768)",
     "output_type": "error",
     "traceback": [
      "\u001b[0;31m---------------------------------------------------------------------------\u001b[0m",
      "\u001b[0;31mRuntimeError\u001b[0m                              Traceback (most recent call last)",
      "Cell \u001b[0;32mIn[265], line 6\u001b[0m\n\u001b[1;32m      3\u001b[0m num_heads \u001b[38;5;241m=\u001b[39m \u001b[38;5;241m12\u001b[39m\n\u001b[1;32m      5\u001b[0m mha \u001b[38;5;241m=\u001b[39m MultiHeadAttention(d_in, d_out, context_length, \u001b[38;5;241m0.0\u001b[39m, num_heads)\n\u001b[0;32m----> 6\u001b[0m \u001b[43mmha\u001b[49m\u001b[43m(\u001b[49m\u001b[43mbatch\u001b[49m\u001b[43m)\u001b[49m\n",
      "File \u001b[0;32m/home/zeus/miniconda3/envs/cloudspace/lib/python3.10/site-packages/torch/nn/modules/module.py:1511\u001b[0m, in \u001b[0;36mModule._wrapped_call_impl\u001b[0;34m(self, *args, **kwargs)\u001b[0m\n\u001b[1;32m   1509\u001b[0m     \u001b[38;5;28;01mreturn\u001b[39;00m \u001b[38;5;28mself\u001b[39m\u001b[38;5;241m.\u001b[39m_compiled_call_impl(\u001b[38;5;241m*\u001b[39margs, \u001b[38;5;241m*\u001b[39m\u001b[38;5;241m*\u001b[39mkwargs)  \u001b[38;5;66;03m# type: ignore[misc]\u001b[39;00m\n\u001b[1;32m   1510\u001b[0m \u001b[38;5;28;01melse\u001b[39;00m:\n\u001b[0;32m-> 1511\u001b[0m     \u001b[38;5;28;01mreturn\u001b[39;00m \u001b[38;5;28;43mself\u001b[39;49m\u001b[38;5;241;43m.\u001b[39;49m\u001b[43m_call_impl\u001b[49m\u001b[43m(\u001b[49m\u001b[38;5;241;43m*\u001b[39;49m\u001b[43margs\u001b[49m\u001b[43m,\u001b[49m\u001b[43m \u001b[49m\u001b[38;5;241;43m*\u001b[39;49m\u001b[38;5;241;43m*\u001b[39;49m\u001b[43mkwargs\u001b[49m\u001b[43m)\u001b[49m\n",
      "File \u001b[0;32m/home/zeus/miniconda3/envs/cloudspace/lib/python3.10/site-packages/torch/nn/modules/module.py:1520\u001b[0m, in \u001b[0;36mModule._call_impl\u001b[0;34m(self, *args, **kwargs)\u001b[0m\n\u001b[1;32m   1515\u001b[0m \u001b[38;5;66;03m# If we don't have any hooks, we want to skip the rest of the logic in\u001b[39;00m\n\u001b[1;32m   1516\u001b[0m \u001b[38;5;66;03m# this function, and just call forward.\u001b[39;00m\n\u001b[1;32m   1517\u001b[0m \u001b[38;5;28;01mif\u001b[39;00m \u001b[38;5;129;01mnot\u001b[39;00m (\u001b[38;5;28mself\u001b[39m\u001b[38;5;241m.\u001b[39m_backward_hooks \u001b[38;5;129;01mor\u001b[39;00m \u001b[38;5;28mself\u001b[39m\u001b[38;5;241m.\u001b[39m_backward_pre_hooks \u001b[38;5;129;01mor\u001b[39;00m \u001b[38;5;28mself\u001b[39m\u001b[38;5;241m.\u001b[39m_forward_hooks \u001b[38;5;129;01mor\u001b[39;00m \u001b[38;5;28mself\u001b[39m\u001b[38;5;241m.\u001b[39m_forward_pre_hooks\n\u001b[1;32m   1518\u001b[0m         \u001b[38;5;129;01mor\u001b[39;00m _global_backward_pre_hooks \u001b[38;5;129;01mor\u001b[39;00m _global_backward_hooks\n\u001b[1;32m   1519\u001b[0m         \u001b[38;5;129;01mor\u001b[39;00m _global_forward_hooks \u001b[38;5;129;01mor\u001b[39;00m _global_forward_pre_hooks):\n\u001b[0;32m-> 1520\u001b[0m     \u001b[38;5;28;01mreturn\u001b[39;00m \u001b[43mforward_call\u001b[49m\u001b[43m(\u001b[49m\u001b[38;5;241;43m*\u001b[39;49m\u001b[43margs\u001b[49m\u001b[43m,\u001b[49m\u001b[43m \u001b[49m\u001b[38;5;241;43m*\u001b[39;49m\u001b[38;5;241;43m*\u001b[39;49m\u001b[43mkwargs\u001b[49m\u001b[43m)\u001b[49m\n\u001b[1;32m   1522\u001b[0m \u001b[38;5;28;01mtry\u001b[39;00m:\n\u001b[1;32m   1523\u001b[0m     result \u001b[38;5;241m=\u001b[39m \u001b[38;5;28;01mNone\u001b[39;00m\n",
      "Cell \u001b[0;32mIn[259], line 22\u001b[0m, in \u001b[0;36mMultiHeadAttention.forward\u001b[0;34m(self, x)\u001b[0m\n\u001b[1;32m     20\u001b[0m \u001b[38;5;28;01mdef\u001b[39;00m \u001b[38;5;21mforward\u001b[39m(\u001b[38;5;28mself\u001b[39m, x):\n\u001b[1;32m     21\u001b[0m     num_inputs, num_tokens, d_in \u001b[38;5;241m=\u001b[39m x\u001b[38;5;241m.\u001b[39mshape\n\u001b[0;32m---> 22\u001b[0m     keys \u001b[38;5;241m=\u001b[39m \u001b[38;5;28;43mself\u001b[39;49m\u001b[38;5;241;43m.\u001b[39;49m\u001b[43mW_key\u001b[49m\u001b[43m(\u001b[49m\u001b[43mx\u001b[49m\u001b[43m)\u001b[49m\n\u001b[1;32m     23\u001b[0m     queries \u001b[38;5;241m=\u001b[39m \u001b[38;5;28mself\u001b[39m\u001b[38;5;241m.\u001b[39mW_query(x)\n\u001b[1;32m     24\u001b[0m     values \u001b[38;5;241m=\u001b[39m \u001b[38;5;28mself\u001b[39m\u001b[38;5;241m.\u001b[39mW_value(x)\n",
      "File \u001b[0;32m/home/zeus/miniconda3/envs/cloudspace/lib/python3.10/site-packages/torch/nn/modules/module.py:1511\u001b[0m, in \u001b[0;36mModule._wrapped_call_impl\u001b[0;34m(self, *args, **kwargs)\u001b[0m\n\u001b[1;32m   1509\u001b[0m     \u001b[38;5;28;01mreturn\u001b[39;00m \u001b[38;5;28mself\u001b[39m\u001b[38;5;241m.\u001b[39m_compiled_call_impl(\u001b[38;5;241m*\u001b[39margs, \u001b[38;5;241m*\u001b[39m\u001b[38;5;241m*\u001b[39mkwargs)  \u001b[38;5;66;03m# type: ignore[misc]\u001b[39;00m\n\u001b[1;32m   1510\u001b[0m \u001b[38;5;28;01melse\u001b[39;00m:\n\u001b[0;32m-> 1511\u001b[0m     \u001b[38;5;28;01mreturn\u001b[39;00m \u001b[38;5;28;43mself\u001b[39;49m\u001b[38;5;241;43m.\u001b[39;49m\u001b[43m_call_impl\u001b[49m\u001b[43m(\u001b[49m\u001b[38;5;241;43m*\u001b[39;49m\u001b[43margs\u001b[49m\u001b[43m,\u001b[49m\u001b[43m \u001b[49m\u001b[38;5;241;43m*\u001b[39;49m\u001b[38;5;241;43m*\u001b[39;49m\u001b[43mkwargs\u001b[49m\u001b[43m)\u001b[49m\n",
      "File \u001b[0;32m/home/zeus/miniconda3/envs/cloudspace/lib/python3.10/site-packages/torch/nn/modules/module.py:1520\u001b[0m, in \u001b[0;36mModule._call_impl\u001b[0;34m(self, *args, **kwargs)\u001b[0m\n\u001b[1;32m   1515\u001b[0m \u001b[38;5;66;03m# If we don't have any hooks, we want to skip the rest of the logic in\u001b[39;00m\n\u001b[1;32m   1516\u001b[0m \u001b[38;5;66;03m# this function, and just call forward.\u001b[39;00m\n\u001b[1;32m   1517\u001b[0m \u001b[38;5;28;01mif\u001b[39;00m \u001b[38;5;129;01mnot\u001b[39;00m (\u001b[38;5;28mself\u001b[39m\u001b[38;5;241m.\u001b[39m_backward_hooks \u001b[38;5;129;01mor\u001b[39;00m \u001b[38;5;28mself\u001b[39m\u001b[38;5;241m.\u001b[39m_backward_pre_hooks \u001b[38;5;129;01mor\u001b[39;00m \u001b[38;5;28mself\u001b[39m\u001b[38;5;241m.\u001b[39m_forward_hooks \u001b[38;5;129;01mor\u001b[39;00m \u001b[38;5;28mself\u001b[39m\u001b[38;5;241m.\u001b[39m_forward_pre_hooks\n\u001b[1;32m   1518\u001b[0m         \u001b[38;5;129;01mor\u001b[39;00m _global_backward_pre_hooks \u001b[38;5;129;01mor\u001b[39;00m _global_backward_hooks\n\u001b[1;32m   1519\u001b[0m         \u001b[38;5;129;01mor\u001b[39;00m _global_forward_hooks \u001b[38;5;129;01mor\u001b[39;00m _global_forward_pre_hooks):\n\u001b[0;32m-> 1520\u001b[0m     \u001b[38;5;28;01mreturn\u001b[39;00m \u001b[43mforward_call\u001b[49m\u001b[43m(\u001b[49m\u001b[38;5;241;43m*\u001b[39;49m\u001b[43margs\u001b[49m\u001b[43m,\u001b[49m\u001b[43m \u001b[49m\u001b[38;5;241;43m*\u001b[39;49m\u001b[38;5;241;43m*\u001b[39;49m\u001b[43mkwargs\u001b[49m\u001b[43m)\u001b[49m\n\u001b[1;32m   1522\u001b[0m \u001b[38;5;28;01mtry\u001b[39;00m:\n\u001b[1;32m   1523\u001b[0m     result \u001b[38;5;241m=\u001b[39m \u001b[38;5;28;01mNone\u001b[39;00m\n",
      "File \u001b[0;32m/home/zeus/miniconda3/envs/cloudspace/lib/python3.10/site-packages/torch/nn/modules/linear.py:116\u001b[0m, in \u001b[0;36mLinear.forward\u001b[0;34m(self, input)\u001b[0m\n\u001b[1;32m    115\u001b[0m \u001b[38;5;28;01mdef\u001b[39;00m \u001b[38;5;21mforward\u001b[39m(\u001b[38;5;28mself\u001b[39m, \u001b[38;5;28minput\u001b[39m: Tensor) \u001b[38;5;241m-\u001b[39m\u001b[38;5;241m>\u001b[39m Tensor:\n\u001b[0;32m--> 116\u001b[0m     \u001b[38;5;28;01mreturn\u001b[39;00m \u001b[43mF\u001b[49m\u001b[38;5;241;43m.\u001b[39;49m\u001b[43mlinear\u001b[49m\u001b[43m(\u001b[49m\u001b[38;5;28;43minput\u001b[39;49m\u001b[43m,\u001b[49m\u001b[43m \u001b[49m\u001b[38;5;28;43mself\u001b[39;49m\u001b[38;5;241;43m.\u001b[39;49m\u001b[43mweight\u001b[49m\u001b[43m,\u001b[49m\u001b[43m \u001b[49m\u001b[38;5;28;43mself\u001b[39;49m\u001b[38;5;241;43m.\u001b[39;49m\u001b[43mbias\u001b[49m\u001b[43m)\u001b[49m\n",
      "\u001b[0;31mRuntimeError\u001b[0m: mat1 and mat2 shapes cannot be multiplied (6x3 and 768x768)"
     ]
    }
   ],
   "source": [
    "context_length = 1024\n",
    "d_in, d_out = 768, 768\n",
    "num_heads = 12\n",
    "\n",
    "mha = MultiHeadAttention(d_in, d_out, context_length, 0.0, num_heads)\n",
    "mha(batch)"
   ]
  },
  {
   "cell_type": "code",
   "execution_count": 66,
   "id": "add608b2",
   "metadata": {},
   "outputs": [
    {
     "data": {
      "text/plain": [
       "torch.Size([6, 3])"
      ]
     },
     "execution_count": 66,
     "metadata": {},
     "output_type": "execute_result"
    }
   ],
   "source": [
    "inputs.shape"
   ]
  },
  {
   "cell_type": "markdown",
   "id": "375d5290-8e8b-4149-958e-1efb58a69191",
   "metadata": {},
   "source": [
    "Optionally, the number of parameters is as follows:"
   ]
  },
  {
   "cell_type": "markdown",
   "id": "6d7e603c-1658-4da9-9c0b-ef4bc72832b4",
   "metadata": {},
   "source": []
  },
  {
   "cell_type": "markdown",
   "id": "51ba00bd-feb0-4424-84cb-7c2b1f908779",
   "metadata": {},
   "source": [
    "```\n",
    "2360064  # (2.36 M)\n",
    "```"
   ]
  },
  {
   "cell_type": "markdown",
   "id": "a56c1d47-9b95-4bd1-a517-580a6f779c52",
   "metadata": {},
   "source": []
  },
  {
   "cell_type": "markdown",
   "id": "f45ae9ea",
   "metadata": {},
   "source": []
  }
 ],
 "metadata": {
  "kernelspec": {
   "display_name": "Python 3 (ipykernel)",
   "language": "python",
   "name": "python3"
  },
  "language_info": {
   "codemirror_mode": {
    "name": "ipython",
    "version": 3
   },
   "file_extension": ".py",
   "mimetype": "text/x-python",
   "name": "python",
   "nbconvert_exporter": "python",
   "pygments_lexer": "ipython3",
   "version": "3.10.6"
  }
 },
 "nbformat": 4,
 "nbformat_minor": 5
}
